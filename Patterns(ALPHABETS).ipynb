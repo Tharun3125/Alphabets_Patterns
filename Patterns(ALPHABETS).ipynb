{
 "cells": [
  {
   "cell_type": "code",
   "execution_count": 11,
   "metadata": {},
   "outputs": [
    {
     "name": "stdout",
     "output_type": "stream",
     "text": [
      "- * * * - \n",
      "* - - - * \n",
      "* * * * * \n",
      "* - - - * \n",
      "* - - - * \n"
     ]
    }
   ],
   "source": [
    "n=int(input())\n",
    "for row in range(n):\n",
    "    for col in range(n):\n",
    "        if (col==0 and row>0) or (col==n-1 and row>0) or(1<=col<n-1 and row==0 ) or row==n//2 :\n",
    "            print('*',end=' ')\n",
    "        else:\n",
    "            print('-',end=' ')\n",
    "    print()"
   ]
  },
  {
   "cell_type": "code",
   "execution_count": 56,
   "metadata": {},
   "outputs": [
    {
     "name": "stdout",
     "output_type": "stream",
     "text": [
      "* * * * * * *   \n",
      "*             * \n",
      "*             * \n",
      "*             * \n",
      "* * * * * * *   \n",
      "*             * \n",
      "*             * \n",
      "* * * * * * *   \n"
     ]
    }
   ],
   "source": [
    "n=int(input())\n",
    "row=0\n",
    "while row!=n:\n",
    "    col=0\n",
    "    while col!=n:\n",
    "        if col==0 or (row==0 and col!=n-1) or (row==n-1 and col!=n-1) or (col==n-1 and row!=0 and row!=n//2 and row!=n-1)or row==n//2 and col<n-1:\n",
    "            print('*',end=' ')\n",
    "        else:\n",
    "            print(' ',end=' ')\n",
    "        col+=1\n",
    "    row+=1\n",
    "    print()"
   ]
  },
  {
   "cell_type": "code",
   "execution_count": 2,
   "metadata": {},
   "outputs": [
    {
     "name": "stdout",
     "output_type": "stream",
     "text": [
      "- * * * * \n",
      "* - - - - \n",
      "* - - - - \n",
      "* - - - - \n",
      "- * * * * \n"
     ]
    }
   ],
   "source": [
    "n=int(input())\n",
    "for row in range(n):\n",
    "    for col in range(n):\n",
    "        if col==0 and 1<=row<n-1 or (row==0 and col>0) or (row==n-1 and 1<=col<=n-1):\n",
    "            print('*',end=' ')\n",
    "        else:\n",
    "            print('-',end=' ')\n",
    "    print()"
   ]
  },
  {
   "cell_type": "code",
   "execution_count": 76,
   "metadata": {},
   "outputs": [
    {
     "name": "stdout",
     "output_type": "stream",
     "text": [
      "* - - - - \n",
      "* - - - - \n",
      "* - - - - \n",
      "* - - - - \n",
      "* * * * * \n"
     ]
    }
   ],
   "source": [
    "n=int(input())\n",
    "for row in range(n):\n",
    "    for col in range(n):\n",
    "        if col==0 or row==n-1:\n",
    "            print('*',end=' ')\n",
    "        else:\n",
    "            print('-',end=' ')\n",
    "    print()"
   ]
  },
  {
   "cell_type": "code",
   "execution_count": 79,
   "metadata": {},
   "outputs": [
    {
     "name": "stdout",
     "output_type": "stream",
     "text": [
      "* * * * * * * \n",
      "- - - * - - - \n",
      "- - - * - - - \n",
      "- - - * - - - \n",
      "- - - * - - - \n",
      "- - - * - - - \n",
      "* * * * * * * \n"
     ]
    }
   ],
   "source": [
    "n=int(input())\n",
    "for row in range(n):\n",
    "    for col in range(n):\n",
    "        if row==0 or row==n-1 or col==n//2:\n",
    "            print('*',end=' ')\n",
    "        else:\n",
    "            print('-',end=' ')\n",
    "    print()"
   ]
  },
  {
   "cell_type": "code",
   "execution_count": 81,
   "metadata": {},
   "outputs": [
    {
     "name": "stdout",
     "output_type": "stream",
     "text": [
      "* * * * * * * \n",
      "- - - * - - - \n",
      "- - - * - - - \n",
      "- - - * - - - \n",
      "- - - * - - - \n",
      "- - - * - - - \n",
      "- - - * - - - \n"
     ]
    }
   ],
   "source": [
    "n=int(input())\n",
    "for row in range(n):\n",
    "    for col in range(n):\n",
    "        if row==0 or col==n//2:\n",
    "            print('*',end=' ')\n",
    "        else:\n",
    "            print('-',end=' ')\n",
    "    print()"
   ]
  },
  {
   "cell_type": "code",
   "execution_count": 84,
   "metadata": {},
   "outputs": [
    {
     "name": "stdout",
     "output_type": "stream",
     "text": [
      "* - - - * \n",
      "* - - - * \n",
      "* * * * * \n",
      "* - - - * \n",
      "* - - - * \n"
     ]
    }
   ],
   "source": [
    "n=int(input())\n",
    "for row in range(n):\n",
    "    for col in range(n):\n",
    "        if col==0 or col==n-1 or row==n//2:\n",
    "            print('*',end=' ')\n",
    "        else:\n",
    "            print('-',end=' ')\n",
    "    print()"
   ]
  },
  {
   "cell_type": "code",
   "execution_count": 116,
   "metadata": {},
   "outputs": [
    {
     "name": "stdout",
     "output_type": "stream",
     "text": [
      "*           * \n",
      "  *       *   \n",
      "    *   *     \n",
      "      *       \n",
      "    *         \n",
      "  *           \n",
      "*             \n"
     ]
    }
   ],
   "source": [
    "n=int(input())\n",
    "for row in range(n):\n",
    "    for col in range(n):\n",
    "        if (row==col and row<n//2 )or row+col==n-1:\n",
    "            print('*',end=' ')\n",
    "        else:\n",
    "            print(' ',end=' ')\n",
    "    print()"
   ]
  },
  {
   "cell_type": "code",
   "execution_count": 115,
   "metadata": {},
   "outputs": [
    {
     "name": "stdout",
     "output_type": "stream",
     "text": [
      "*           * \n",
      "  *       *   \n",
      "    *   *     \n",
      "      *       \n",
      "      *       \n",
      "      *       \n",
      "      *       \n"
     ]
    }
   ],
   "source": [
    "n=int(input())\n",
    "for row in range(n):\n",
    "    for col in range(n):\n",
    "        if (row==col and row<n//2 )or (row+col==n-1 and col>=n//2) or (col==n//2 and row>n//2):\n",
    "            print('*',end=' ')\n",
    "        else:\n",
    "            print(' ',end=' ')\n",
    "    print()"
   ]
  },
  {
   "cell_type": "code",
   "execution_count": 97,
   "metadata": {},
   "outputs": [
    {
     "name": "stdout",
     "output_type": "stream",
     "text": [
      "* * * * * *   \n",
      "*           * \n",
      "*           * \n",
      "*           * \n",
      "*           * \n",
      "*           * \n",
      "* * * * * *   \n"
     ]
    }
   ],
   "source": [
    "n=int(input())\n",
    "for row in range(n):\n",
    "    for col in range(n):\n",
    "        if (row==0 and col!=n-1 ) or col==0 or (row==n-1 and col!=n-1) or (col==n-1 and row!=0 and row!=n-1):\n",
    "            print('*',end=' ')\n",
    "        else:\n",
    "            print(' ',end=' ')\n",
    "    print()"
   ]
  },
  {
   "cell_type": "code",
   "execution_count": 101,
   "metadata": {},
   "outputs": [
    {
     "name": "stdout",
     "output_type": "stream",
     "text": [
      "* * * * * *   \n",
      "*           * \n",
      "*           * \n",
      "*           * \n",
      "*           * \n",
      "*           * \n",
      "* * * * * *   \n"
     ]
    }
   ],
   "source": [
    "n=int(input())\n",
    "for row in range(n):\n",
    "    for col in range(n):\n",
    "        if (row==0 and 1<=col<n-1 and col!=0) or col==0 or (row==n-1 and 1<=col<n-1) or (col==n-1 and row!=0 and row!=n-1):\n",
    "            print('*',end=' ')\n",
    "        else:\n",
    "            print(' ',end=' ')\n",
    "    print()"
   ]
  },
  {
   "cell_type": "code",
   "execution_count": 108,
   "metadata": {},
   "outputs": [
    {
     "name": "stdout",
     "output_type": "stream",
     "text": [
      "  * * * * * * *   \n",
      "*                 \n",
      "*                 \n",
      "*                 \n",
      "* * * * * * * * * \n",
      "*               * \n",
      "*               * \n",
      "*               * \n",
      "  * * * * * *   * \n"
     ]
    }
   ],
   "source": [
    "n=int(input())\n",
    "for row in range(n):\n",
    "    for col in range(n):\n",
    "        if (col==0 and 1<=row<n-1) or (row==0 and 1<=col<n-1) or (row==n-1 and 1<=col<n-2) or (row==n//2 and 1<=col<n-1) or (col==n-1 and n//2<=row<=n-1):\n",
    "            print('*',end=' ')\n",
    "        else:\n",
    "            print(' ',end=' ')\n",
    "    print()"
   ]
  },
  {
   "cell_type": "code",
   "execution_count": 114,
   "metadata": {},
   "outputs": [
    {
     "name": "stdout",
     "output_type": "stream",
     "text": [
      "  * * * *   \n",
      "*           \n",
      "*           \n",
      "*     * * * \n",
      "*         * \n",
      "  * * * *   \n"
     ]
    }
   ],
   "source": [
    "n=int(input())\n",
    "for row in range(n):\n",
    "    for col in range(n):\n",
    "        if (col==0 and 1<=row<n-1) or (row==0 and 1<=col<n-1) or (row==n-1 and 1<=col<n-1) or (row==n//2 and n//2<=col<n-1) or (col==n-1 and n//2<=row<=n-2):\n",
    "            print('*',end=' ')\n",
    "        else:\n",
    "            print(' ',end=' ')\n",
    "    print()"
   ]
  },
  {
   "cell_type": "code",
   "execution_count": 122,
   "metadata": {},
   "outputs": [
    {
     "name": "stdout",
     "output_type": "stream",
     "text": [
      "  * * * * *   \n",
      "*           * \n",
      "*           * \n",
      "*           * \n",
      "*           * \n",
      "*           * \n",
      "  * * * * *   \n"
     ]
    }
   ],
   "source": [
    "n=int(input())\n",
    "for row in range(n):\n",
    "    for col in range(n):\n",
    "        if (1<=row<n-1 and col==0) or (1<=row<n-1 and col==n-1) or (1<=col<n-1 and row==0) or (1<=col<n-1 and row==n-1) :\n",
    "            print('*',end=' ')\n",
    "        else:\n",
    "            print(' ',end=' ')\n",
    "    print()"
   ]
  },
  {
   "cell_type": "code",
   "execution_count": 123,
   "metadata": {},
   "outputs": [
    {
     "name": "stdout",
     "output_type": "stream",
     "text": [
      "* * * * * * * \n",
      "*           * \n",
      "*           * \n",
      "*           * \n",
      "*           * \n",
      "*           * \n",
      "* * * * * * * \n"
     ]
    }
   ],
   "source": [
    "n=int(input())\n",
    "for row in range(n):\n",
    "    for col in range(n):\n",
    "        if row==0 or col==0 or row==n-1 or col==n-1 or ():\n",
    "            print('*',end=' ')\n",
    "        else:\n",
    "            print(' ',end=' ')\n",
    "    print()"
   ]
  }
 ],
 "metadata": {
  "kernelspec": {
   "display_name": "Python 3",
   "language": "python",
   "name": "python3"
  },
  "language_info": {
   "codemirror_mode": {
    "name": "ipython",
    "version": 3
   },
   "file_extension": ".py",
   "mimetype": "text/x-python",
   "name": "python",
   "nbconvert_exporter": "python",
   "pygments_lexer": "ipython3",
   "version": "3.10.11"
  }
 },
 "nbformat": 4,
 "nbformat_minor": 2
}
